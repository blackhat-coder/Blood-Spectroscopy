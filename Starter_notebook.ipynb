{
 "cells": [
  {
   "cell_type": "code",
   "execution_count": 1,
   "id": "f8f5ecb7",
   "metadata": {},
   "outputs": [],
   "source": [
    "import os\n",
    "import pandas as pd\n",
    "import numpy as np\n",
    "import json\n",
    "import random, string\n",
    "import seaborn as sns\n",
    "import matplotlib.pyplot as plt\n",
    "# %matplotlib inline"
   ]
  },
  {
   "cell_type": "code",
   "execution_count": 4,
   "id": "64a387fc",
   "metadata": {},
   "outputs": [],
   "source": [
    "maindir = \"data/\" # Directory with your files\n",
    "traincsv = maindir+\"/Update_train.csv\"\n",
    "testcsv = maindir+\"/Updated_Test.csv\""
   ]
  },
  {
   "cell_type": "code",
   "execution_count": 7,
   "id": "e7ca88ef",
   "metadata": {},
   "outputs": [
    {
     "data": {
      "text/html": [
       "<div>\n",
       "<style scoped>\n",
       "    .dataframe tbody tr th:only-of-type {\n",
       "        vertical-align: middle;\n",
       "    }\n",
       "\n",
       "    .dataframe tbody tr th {\n",
       "        vertical-align: top;\n",
       "    }\n",
       "\n",
       "    .dataframe thead th {\n",
       "        text-align: right;\n",
       "    }\n",
       "</style>\n",
       "<table border=\"1\" class=\"dataframe\">\n",
       "  <thead>\n",
       "    <tr style=\"text-align: right;\">\n",
       "      <th></th>\n",
       "      <th>absorbance0</th>\n",
       "      <th>absorbance1</th>\n",
       "      <th>absorbance2</th>\n",
       "      <th>absorbance3</th>\n",
       "      <th>absorbance4</th>\n",
       "      <th>absorbance5</th>\n",
       "      <th>absorbance6</th>\n",
       "      <th>absorbance7</th>\n",
       "      <th>absorbance8</th>\n",
       "      <th>absorbance9</th>\n",
       "      <th>...</th>\n",
       "      <th>absorbance168</th>\n",
       "      <th>absorbance169</th>\n",
       "      <th>id</th>\n",
       "      <th>std</th>\n",
       "      <th>temperature</th>\n",
       "      <th>humidity</th>\n",
       "      <th>hdl_cholesterol_human</th>\n",
       "      <th>hemoglobin(hgb)_human</th>\n",
       "      <th>cholesterol_ldl_human</th>\n",
       "      <th>donation_id</th>\n",
       "    </tr>\n",
       "  </thead>\n",
       "  <tbody>\n",
       "    <tr>\n",
       "      <th>0</th>\n",
       "      <td>0.520883</td>\n",
       "      <td>0.528200</td>\n",
       "      <td>0.529795</td>\n",
       "      <td>0.537382</td>\n",
       "      <td>0.540265</td>\n",
       "      <td>0.546260</td>\n",
       "      <td>0.550882</td>\n",
       "      <td>0.558865</td>\n",
       "      <td>0.571352</td>\n",
       "      <td>0.585775</td>\n",
       "      <td>...</td>\n",
       "      <td>1.319344</td>\n",
       "      <td>1.278294</td>\n",
       "      <td>0</td>\n",
       "      <td>0.0026</td>\n",
       "      <td>39.27</td>\n",
       "      <td>44.17</td>\n",
       "      <td>low</td>\n",
       "      <td>ok</td>\n",
       "      <td>high</td>\n",
       "      <td>2250</td>\n",
       "    </tr>\n",
       "    <tr>\n",
       "      <th>1</th>\n",
       "      <td>0.529109</td>\n",
       "      <td>0.534852</td>\n",
       "      <td>0.541075</td>\n",
       "      <td>0.544269</td>\n",
       "      <td>0.546594</td>\n",
       "      <td>0.555183</td>\n",
       "      <td>0.561367</td>\n",
       "      <td>0.567637</td>\n",
       "      <td>0.582427</td>\n",
       "      <td>0.595801</td>\n",
       "      <td>...</td>\n",
       "      <td>1.282723</td>\n",
       "      <td>1.267465</td>\n",
       "      <td>1</td>\n",
       "      <td>0.0026</td>\n",
       "      <td>39.39</td>\n",
       "      <td>44.09</td>\n",
       "      <td>low</td>\n",
       "      <td>ok</td>\n",
       "      <td>high</td>\n",
       "      <td>2250</td>\n",
       "    </tr>\n",
       "    <tr>\n",
       "      <th>2</th>\n",
       "      <td>0.528434</td>\n",
       "      <td>0.532036</td>\n",
       "      <td>0.540413</td>\n",
       "      <td>0.541964</td>\n",
       "      <td>0.549347</td>\n",
       "      <td>0.555902</td>\n",
       "      <td>0.561458</td>\n",
       "      <td>0.567824</td>\n",
       "      <td>0.579568</td>\n",
       "      <td>0.593048</td>\n",
       "      <td>...</td>\n",
       "      <td>1.287730</td>\n",
       "      <td>1.266464</td>\n",
       "      <td>2</td>\n",
       "      <td>0.0026</td>\n",
       "      <td>39.50</td>\n",
       "      <td>44.00</td>\n",
       "      <td>low</td>\n",
       "      <td>ok</td>\n",
       "      <td>high</td>\n",
       "      <td>2250</td>\n",
       "    </tr>\n",
       "    <tr>\n",
       "      <th>3</th>\n",
       "      <td>0.530528</td>\n",
       "      <td>0.531880</td>\n",
       "      <td>0.539558</td>\n",
       "      <td>0.542433</td>\n",
       "      <td>0.549097</td>\n",
       "      <td>0.556224</td>\n",
       "      <td>0.561398</td>\n",
       "      <td>0.566963</td>\n",
       "      <td>0.577525</td>\n",
       "      <td>0.591982</td>\n",
       "      <td>...</td>\n",
       "      <td>1.314408</td>\n",
       "      <td>1.342224</td>\n",
       "      <td>3</td>\n",
       "      <td>0.0026</td>\n",
       "      <td>39.60</td>\n",
       "      <td>43.89</td>\n",
       "      <td>low</td>\n",
       "      <td>ok</td>\n",
       "      <td>high</td>\n",
       "      <td>2250</td>\n",
       "    </tr>\n",
       "    <tr>\n",
       "      <th>4</th>\n",
       "      <td>0.527530</td>\n",
       "      <td>0.536424</td>\n",
       "      <td>0.538207</td>\n",
       "      <td>0.541504</td>\n",
       "      <td>0.550546</td>\n",
       "      <td>0.555203</td>\n",
       "      <td>0.560394</td>\n",
       "      <td>0.567352</td>\n",
       "      <td>0.579438</td>\n",
       "      <td>0.592049</td>\n",
       "      <td>...</td>\n",
       "      <td>1.268710</td>\n",
       "      <td>1.216146</td>\n",
       "      <td>4</td>\n",
       "      <td>0.0026</td>\n",
       "      <td>39.70</td>\n",
       "      <td>43.83</td>\n",
       "      <td>low</td>\n",
       "      <td>ok</td>\n",
       "      <td>high</td>\n",
       "      <td>2250</td>\n",
       "    </tr>\n",
       "  </tbody>\n",
       "</table>\n",
       "<p>5 rows × 178 columns</p>\n",
       "</div>"
      ],
      "text/plain": [
       "   absorbance0  absorbance1  absorbance2  absorbance3  absorbance4  \\\n",
       "0     0.520883     0.528200     0.529795     0.537382     0.540265   \n",
       "1     0.529109     0.534852     0.541075     0.544269     0.546594   \n",
       "2     0.528434     0.532036     0.540413     0.541964     0.549347   \n",
       "3     0.530528     0.531880     0.539558     0.542433     0.549097   \n",
       "4     0.527530     0.536424     0.538207     0.541504     0.550546   \n",
       "\n",
       "   absorbance5  absorbance6  absorbance7  absorbance8  absorbance9  ...  \\\n",
       "0     0.546260     0.550882     0.558865     0.571352     0.585775  ...   \n",
       "1     0.555183     0.561367     0.567637     0.582427     0.595801  ...   \n",
       "2     0.555902     0.561458     0.567824     0.579568     0.593048  ...   \n",
       "3     0.556224     0.561398     0.566963     0.577525     0.591982  ...   \n",
       "4     0.555203     0.560394     0.567352     0.579438     0.592049  ...   \n",
       "\n",
       "   absorbance168  absorbance169  id     std  temperature  humidity  \\\n",
       "0       1.319344       1.278294   0  0.0026        39.27     44.17   \n",
       "1       1.282723       1.267465   1  0.0026        39.39     44.09   \n",
       "2       1.287730       1.266464   2  0.0026        39.50     44.00   \n",
       "3       1.314408       1.342224   3  0.0026        39.60     43.89   \n",
       "4       1.268710       1.216146   4  0.0026        39.70     43.83   \n",
       "\n",
       "   hdl_cholesterol_human  hemoglobin(hgb)_human  cholesterol_ldl_human  \\\n",
       "0                    low                     ok                   high   \n",
       "1                    low                     ok                   high   \n",
       "2                    low                     ok                   high   \n",
       "3                    low                     ok                   high   \n",
       "4                    low                     ok                   high   \n",
       "\n",
       "   donation_id  \n",
       "0         2250  \n",
       "1         2250  \n",
       "2         2250  \n",
       "3         2250  \n",
       "4         2250  \n",
       "\n",
       "[5 rows x 178 columns]"
      ]
     },
     "execution_count": 7,
     "metadata": {},
     "output_type": "execute_result"
    }
   ],
   "source": [
    "train = pd.read_csv(\"Update_train.csv\")\n",
    "train.head()"
   ]
  },
  {
   "cell_type": "code",
   "execution_count": 9,
   "id": "c1fbef94",
   "metadata": {},
   "outputs": [
    {
     "data": {
      "text/plain": [
       "4030     60\n",
       "8194     60\n",
       "2148     60\n",
       "10352    60\n",
       "10368    60\n",
       "         ..\n",
       "3147     60\n",
       "9326     60\n",
       "3211     60\n",
       "5320     60\n",
       "2081     60\n",
       "Name: donation_id, Length: 486, dtype: int64"
      ]
     },
     "execution_count": 9,
     "metadata": {},
     "output_type": "execute_result"
    }
   ],
   "source": [
    "train['donation_id'].value_counts()"
   ]
  },
  {
   "cell_type": "code",
   "execution_count": 8,
   "id": "64d6bd6f",
   "metadata": {},
   "outputs": [
    {
     "data": {
      "text/plain": [
       "(29160, 178)"
      ]
     },
     "execution_count": 8,
     "metadata": {},
     "output_type": "execute_result"
    }
   ],
   "source": [
    "train.shape"
   ]
  },
  {
   "cell_type": "markdown",
   "id": "b688e2b7",
   "metadata": {},
   "source": [
    "## Quick look at the DATA"
   ]
  },
  {
   "cell_type": "code",
   "execution_count": 3,
   "id": "c086fd62",
   "metadata": {},
   "outputs": [
    {
     "data": {
      "text/html": [
       "<div>\n",
       "<style scoped>\n",
       "    .dataframe tbody tr th:only-of-type {\n",
       "        vertical-align: middle;\n",
       "    }\n",
       "\n",
       "    .dataframe tbody tr th {\n",
       "        vertical-align: top;\n",
       "    }\n",
       "\n",
       "    .dataframe thead th {\n",
       "        text-align: right;\n",
       "    }\n",
       "</style>\n",
       "<table border=\"1\" class=\"dataframe\">\n",
       "  <thead>\n",
       "    <tr style=\"text-align: right;\">\n",
       "      <th></th>\n",
       "      <th>Reading_ID</th>\n",
       "      <th>absorbance0</th>\n",
       "      <th>absorbance1</th>\n",
       "      <th>absorbance2</th>\n",
       "      <th>absorbance3</th>\n",
       "      <th>absorbance4</th>\n",
       "      <th>absorbance5</th>\n",
       "      <th>absorbance6</th>\n",
       "      <th>absorbance7</th>\n",
       "      <th>absorbance8</th>\n",
       "      <th>...</th>\n",
       "      <th>absorbance165</th>\n",
       "      <th>absorbance166</th>\n",
       "      <th>absorbance167</th>\n",
       "      <th>absorbance168</th>\n",
       "      <th>absorbance169</th>\n",
       "      <th>temperature</th>\n",
       "      <th>humidity</th>\n",
       "      <th>hdl_cholesterol_human</th>\n",
       "      <th>hemoglobin(hgb)_human</th>\n",
       "      <th>cholesterol_ldl_human</th>\n",
       "    </tr>\n",
       "  </thead>\n",
       "  <tbody>\n",
       "    <tr>\n",
       "      <th>0</th>\n",
       "      <td>ID_3SSHI56C</td>\n",
       "      <td>0.479669</td>\n",
       "      <td>0.477423</td>\n",
       "      <td>0.487956</td>\n",
       "      <td>0.491831</td>\n",
       "      <td>0.500516</td>\n",
       "      <td>0.502590</td>\n",
       "      <td>0.511561</td>\n",
       "      <td>0.514639</td>\n",
       "      <td>0.524245</td>\n",
       "      <td>...</td>\n",
       "      <td>1.218660</td>\n",
       "      <td>1.213038</td>\n",
       "      <td>1.198317</td>\n",
       "      <td>1.195735</td>\n",
       "      <td>1.180846</td>\n",
       "      <td>42.51</td>\n",
       "      <td>34.01</td>\n",
       "      <td>ok</td>\n",
       "      <td>ok</td>\n",
       "      <td>ok</td>\n",
       "    </tr>\n",
       "    <tr>\n",
       "      <th>1</th>\n",
       "      <td>ID_599OOLZA</td>\n",
       "      <td>0.471537</td>\n",
       "      <td>0.474113</td>\n",
       "      <td>0.479981</td>\n",
       "      <td>0.485528</td>\n",
       "      <td>0.491049</td>\n",
       "      <td>0.497942</td>\n",
       "      <td>0.504760</td>\n",
       "      <td>0.510543</td>\n",
       "      <td>0.522328</td>\n",
       "      <td>...</td>\n",
       "      <td>1.304501</td>\n",
       "      <td>1.323005</td>\n",
       "      <td>1.305992</td>\n",
       "      <td>1.263887</td>\n",
       "      <td>1.262095</td>\n",
       "      <td>44.52</td>\n",
       "      <td>32.09</td>\n",
       "      <td>ok</td>\n",
       "      <td>high</td>\n",
       "      <td>high</td>\n",
       "    </tr>\n",
       "    <tr>\n",
       "      <th>2</th>\n",
       "      <td>ID_MVJGPQ75</td>\n",
       "      <td>0.444998</td>\n",
       "      <td>0.458034</td>\n",
       "      <td>0.447386</td>\n",
       "      <td>0.456921</td>\n",
       "      <td>0.463225</td>\n",
       "      <td>0.475983</td>\n",
       "      <td>0.476817</td>\n",
       "      <td>0.481565</td>\n",
       "      <td>0.490010</td>\n",
       "      <td>...</td>\n",
       "      <td>1.325059</td>\n",
       "      <td>1.271115</td>\n",
       "      <td>1.337119</td>\n",
       "      <td>1.289877</td>\n",
       "      <td>1.345229</td>\n",
       "      <td>45.77</td>\n",
       "      <td>24.80</td>\n",
       "      <td>ok</td>\n",
       "      <td>ok</td>\n",
       "      <td>high</td>\n",
       "    </tr>\n",
       "    <tr>\n",
       "      <th>3</th>\n",
       "      <td>ID_CK6RF8YV</td>\n",
       "      <td>0.513434</td>\n",
       "      <td>0.513303</td>\n",
       "      <td>0.522609</td>\n",
       "      <td>0.521068</td>\n",
       "      <td>0.523146</td>\n",
       "      <td>0.530132</td>\n",
       "      <td>0.539517</td>\n",
       "      <td>0.546364</td>\n",
       "      <td>0.552414</td>\n",
       "      <td>...</td>\n",
       "      <td>1.298422</td>\n",
       "      <td>1.299873</td>\n",
       "      <td>1.311157</td>\n",
       "      <td>1.303259</td>\n",
       "      <td>1.349833</td>\n",
       "      <td>45.84</td>\n",
       "      <td>36.93</td>\n",
       "      <td>low</td>\n",
       "      <td>ok</td>\n",
       "      <td>high</td>\n",
       "    </tr>\n",
       "    <tr>\n",
       "      <th>4</th>\n",
       "      <td>ID_82N6QE6I</td>\n",
       "      <td>0.510485</td>\n",
       "      <td>0.519359</td>\n",
       "      <td>0.524225</td>\n",
       "      <td>0.528419</td>\n",
       "      <td>0.535273</td>\n",
       "      <td>0.545342</td>\n",
       "      <td>0.550314</td>\n",
       "      <td>0.557129</td>\n",
       "      <td>0.567030</td>\n",
       "      <td>...</td>\n",
       "      <td>1.272367</td>\n",
       "      <td>1.290032</td>\n",
       "      <td>1.339771</td>\n",
       "      <td>1.322738</td>\n",
       "      <td>1.348964</td>\n",
       "      <td>38.92</td>\n",
       "      <td>23.88</td>\n",
       "      <td>ok</td>\n",
       "      <td>ok</td>\n",
       "      <td>high</td>\n",
       "    </tr>\n",
       "  </tbody>\n",
       "</table>\n",
       "<p>5 rows × 176 columns</p>\n",
       "</div>"
      ],
      "text/plain": [
       "    Reading_ID  absorbance0  absorbance1  absorbance2  absorbance3  \\\n",
       "0  ID_3SSHI56C     0.479669     0.477423     0.487956     0.491831   \n",
       "1  ID_599OOLZA     0.471537     0.474113     0.479981     0.485528   \n",
       "2  ID_MVJGPQ75     0.444998     0.458034     0.447386     0.456921   \n",
       "3  ID_CK6RF8YV     0.513434     0.513303     0.522609     0.521068   \n",
       "4  ID_82N6QE6I     0.510485     0.519359     0.524225     0.528419   \n",
       "\n",
       "   absorbance4  absorbance5  absorbance6  absorbance7  absorbance8  ...  \\\n",
       "0     0.500516     0.502590     0.511561     0.514639     0.524245  ...   \n",
       "1     0.491049     0.497942     0.504760     0.510543     0.522328  ...   \n",
       "2     0.463225     0.475983     0.476817     0.481565     0.490010  ...   \n",
       "3     0.523146     0.530132     0.539517     0.546364     0.552414  ...   \n",
       "4     0.535273     0.545342     0.550314     0.557129     0.567030  ...   \n",
       "\n",
       "   absorbance165  absorbance166  absorbance167  absorbance168  absorbance169  \\\n",
       "0       1.218660       1.213038       1.198317       1.195735       1.180846   \n",
       "1       1.304501       1.323005       1.305992       1.263887       1.262095   \n",
       "2       1.325059       1.271115       1.337119       1.289877       1.345229   \n",
       "3       1.298422       1.299873       1.311157       1.303259       1.349833   \n",
       "4       1.272367       1.290032       1.339771       1.322738       1.348964   \n",
       "\n",
       "   temperature  humidity  hdl_cholesterol_human  hemoglobin(hgb)_human  \\\n",
       "0        42.51     34.01                     ok                     ok   \n",
       "1        44.52     32.09                     ok                   high   \n",
       "2        45.77     24.80                     ok                     ok   \n",
       "3        45.84     36.93                    low                     ok   \n",
       "4        38.92     23.88                     ok                     ok   \n",
       "\n",
       "   cholesterol_ldl_human  \n",
       "0                     ok  \n",
       "1                   high  \n",
       "2                   high  \n",
       "3                   high  \n",
       "4                   high  \n",
       "\n",
       "[5 rows x 176 columns]"
      ]
     },
     "execution_count": 3,
     "metadata": {},
     "output_type": "execute_result"
    }
   ],
   "source": [
    "train = pd.read_csv(traincsv)\n",
    "train.head()"
   ]
  },
  {
   "cell_type": "markdown",
   "id": "4f752215",
   "metadata": {},
   "source": [
    "The goal of the competition is use the abosrbance which is spectrum to predict the hdl_cholesterol, hemoglobin and ldl_cholestorl level. These can either be low, ok or high. The absobance spectrum has 170 values over the entier frequency range. In the dataset with labels trim, the edges of the absorbance spectrum have been trimmed by Bloods-ai because they believed the edges are noisy. \n",
    "\n",
    "It is up to you to experiment and decide if woriking with the full range or trim range prvents the best results.\n",
    "\n",
    "Note that the each measurement actually contains, 60 scans so a lot of the data will actually just be scans of the same measurement. So it is up to you to make sure your model doesn't overfit and is reliable to the limited variation of the data. The plan is to collect and add more data while the competion is running."
   ]
  },
  {
   "cell_type": "markdown",
   "id": "56e7610f",
   "metadata": {},
   "source": [
    "### Visualization"
   ]
  },
  {
   "cell_type": "code",
   "execution_count": 4,
   "id": "7506e185",
   "metadata": {},
   "outputs": [
    {
     "name": "stderr",
     "output_type": "stream",
     "text": [
      "/Users/michaelmbugua/Desktop/zindi/venv/lib/python3.8/site-packages/seaborn/_decorators.py:36: FutureWarning: Pass the following variable as a keyword arg: x. From version 0.12, the only valid positional argument will be `data`, and passing other arguments without an explicit keyword will result in an error or misinterpretation.\n",
      "  warnings.warn(\n"
     ]
    },
    {
     "data": {
      "text/plain": [
       "<AxesSubplot:xlabel='hdl_cholesterol_human', ylabel='count'>"
      ]
     },
     "execution_count": 4,
     "metadata": {},
     "output_type": "execute_result"
    },
    {
     "data": {
      "image/png": "[encoded data removed]",
      "text/plain": [
       "<Figure size 432x288 with 1 Axes>"
      ]
     },
     "metadata": {
      "needs_background": "light"
     },
     "output_type": "display_data"
    }
   ],
   "source": [
    "sns.countplot(train[\"hdl_cholesterol_human\"])"
   ]
  },
  {
   "cell_type": "code",
   "execution_count": 5,
   "id": "d5c6333b",
   "metadata": {},
   "outputs": [
    {
     "name": "stderr",
     "output_type": "stream",
     "text": [
      "/Users/michaelmbugua/Desktop/zindi/venv/lib/python3.8/site-packages/seaborn/_decorators.py:36: FutureWarning: Pass the following variable as a keyword arg: x. From version 0.12, the only valid positional argument will be `data`, and passing other arguments without an explicit keyword will result in an error or misinterpretation.\n",
      "  warnings.warn(\n"
     ]
    },
    {
     "data": {
      "text/plain": [
       "<AxesSubplot:xlabel='hemoglobin(hgb)_human', ylabel='count'>"
      ]
     },
     "execution_count": 5,
     "metadata": {},
     "output_type": "execute_result"
    },
    {
     "data": {
      "image/png": "[encoded data removed]",
      "text/plain": [
       "<Figure size 432x288 with 1 Axes>"
      ]
     },
     "metadata": {
      "needs_background": "light"
     },
     "output_type": "display_data"
    }
   ],
   "source": [
    "sns.countplot(train[\"hemoglobin(hgb)_human\"])"
   ]
  },
  {
   "cell_type": "code",
   "execution_count": 6,
   "id": "e3c8e18b",
   "metadata": {},
   "outputs": [
    {
     "name": "stderr",
     "output_type": "stream",
     "text": [
      "/Users/michaelmbugua/Desktop/zindi/venv/lib/python3.8/site-packages/seaborn/_decorators.py:36: FutureWarning: Pass the following variable as a keyword arg: x. From version 0.12, the only valid positional argument will be `data`, and passing other arguments without an explicit keyword will result in an error or misinterpretation.\n",
      "  warnings.warn(\n"
     ]
    },
    {
     "data": {
      "text/plain": [
       "<AxesSubplot:xlabel='cholesterol_ldl_human', ylabel='count'>"
      ]
     },
     "execution_count": 6,
     "metadata": {},
     "output_type": "execute_result"
    },
    {
     "data": {
      "image/png": "[encoded data removed]",
      "text/plain": [
       "<Figure size 432x288 with 1 Axes>"
      ]
     },
     "metadata": {
      "needs_background": "light"
     },
     "output_type": "display_data"
    }
   ],
   "source": [
    "sns.countplot(train[\"cholesterol_ldl_human\"])"
   ]
  },
  {
   "cell_type": "code",
   "execution_count": 7,
   "id": "38a12002",
   "metadata": {},
   "outputs": [
    {
     "data": {
      "text/plain": [
       "absorbance0      0.479669\n",
       "absorbance1      0.477423\n",
       "absorbance2      0.487956\n",
       "absorbance3      0.491831\n",
       "absorbance4      0.500516\n",
       "                   ...   \n",
       "absorbance167    1.198317\n",
       "absorbance168    1.195735\n",
       "absorbance169    1.180846\n",
       "temperature         42.51\n",
       "humidity            34.01\n",
       "Name: 0, Length: 172, dtype: object"
      ]
     },
     "execution_count": 7,
     "metadata": {},
     "output_type": "execute_result"
    }
   ],
   "source": [
    "train.iloc[0, 1:173]"
   ]
  },
  {
   "cell_type": "code",
   "execution_count": 8,
   "id": "66081bea",
   "metadata": {},
   "outputs": [
    {
     "data": {
      "text/html": [
       "<div>\n",
       "<style scoped>\n",
       "    .dataframe tbody tr th:only-of-type {\n",
       "        vertical-align: middle;\n",
       "    }\n",
       "\n",
       "    .dataframe tbody tr th {\n",
       "        vertical-align: top;\n",
       "    }\n",
       "\n",
       "    .dataframe thead th {\n",
       "        text-align: right;\n",
       "    }\n",
       "</style>\n",
       "<table border=\"1\" class=\"dataframe\">\n",
       "  <thead>\n",
       "    <tr style=\"text-align: right;\">\n",
       "      <th></th>\n",
       "      <th>Reading_ID</th>\n",
       "      <th>absorbance0</th>\n",
       "      <th>absorbance1</th>\n",
       "      <th>absorbance2</th>\n",
       "      <th>absorbance3</th>\n",
       "      <th>absorbance4</th>\n",
       "      <th>absorbance5</th>\n",
       "      <th>absorbance6</th>\n",
       "      <th>absorbance7</th>\n",
       "      <th>absorbance8</th>\n",
       "      <th>...</th>\n",
       "      <th>absorbance165</th>\n",
       "      <th>absorbance166</th>\n",
       "      <th>absorbance167</th>\n",
       "      <th>absorbance168</th>\n",
       "      <th>absorbance169</th>\n",
       "      <th>temperature</th>\n",
       "      <th>humidity</th>\n",
       "      <th>hdl_cholesterol_human</th>\n",
       "      <th>hemoglobin(hgb)_human</th>\n",
       "      <th>cholesterol_ldl_human</th>\n",
       "    </tr>\n",
       "  </thead>\n",
       "  <tbody>\n",
       "    <tr>\n",
       "      <th>0</th>\n",
       "      <td>ID_3SSHI56C</td>\n",
       "      <td>0.479669</td>\n",
       "      <td>0.477423</td>\n",
       "      <td>0.487956</td>\n",
       "      <td>0.491831</td>\n",
       "      <td>0.500516</td>\n",
       "      <td>0.502590</td>\n",
       "      <td>0.511561</td>\n",
       "      <td>0.514639</td>\n",
       "      <td>0.524245</td>\n",
       "      <td>...</td>\n",
       "      <td>1.218660</td>\n",
       "      <td>1.213038</td>\n",
       "      <td>1.198317</td>\n",
       "      <td>1.195735</td>\n",
       "      <td>1.180846</td>\n",
       "      <td>42.51</td>\n",
       "      <td>34.01</td>\n",
       "      <td>ok</td>\n",
       "      <td>ok</td>\n",
       "      <td>ok</td>\n",
       "    </tr>\n",
       "    <tr>\n",
       "      <th>1</th>\n",
       "      <td>ID_599OOLZA</td>\n",
       "      <td>0.471537</td>\n",
       "      <td>0.474113</td>\n",
       "      <td>0.479981</td>\n",
       "      <td>0.485528</td>\n",
       "      <td>0.491049</td>\n",
       "      <td>0.497942</td>\n",
       "      <td>0.504760</td>\n",
       "      <td>0.510543</td>\n",
       "      <td>0.522328</td>\n",
       "      <td>...</td>\n",
       "      <td>1.304501</td>\n",
       "      <td>1.323005</td>\n",
       "      <td>1.305992</td>\n",
       "      <td>1.263887</td>\n",
       "      <td>1.262095</td>\n",
       "      <td>44.52</td>\n",
       "      <td>32.09</td>\n",
       "      <td>ok</td>\n",
       "      <td>high</td>\n",
       "      <td>high</td>\n",
       "    </tr>\n",
       "    <tr>\n",
       "      <th>2</th>\n",
       "      <td>ID_MVJGPQ75</td>\n",
       "      <td>0.444998</td>\n",
       "      <td>0.458034</td>\n",
       "      <td>0.447386</td>\n",
       "      <td>0.456921</td>\n",
       "      <td>0.463225</td>\n",
       "      <td>0.475983</td>\n",
       "      <td>0.476817</td>\n",
       "      <td>0.481565</td>\n",
       "      <td>0.490010</td>\n",
       "      <td>...</td>\n",
       "      <td>1.325059</td>\n",
       "      <td>1.271115</td>\n",
       "      <td>1.337119</td>\n",
       "      <td>1.289877</td>\n",
       "      <td>1.345229</td>\n",
       "      <td>45.77</td>\n",
       "      <td>24.80</td>\n",
       "      <td>ok</td>\n",
       "      <td>ok</td>\n",
       "      <td>high</td>\n",
       "    </tr>\n",
       "    <tr>\n",
       "      <th>3</th>\n",
       "      <td>ID_CK6RF8YV</td>\n",
       "      <td>0.513434</td>\n",
       "      <td>0.513303</td>\n",
       "      <td>0.522609</td>\n",
       "      <td>0.521068</td>\n",
       "      <td>0.523146</td>\n",
       "      <td>0.530132</td>\n",
       "      <td>0.539517</td>\n",
       "      <td>0.546364</td>\n",
       "      <td>0.552414</td>\n",
       "      <td>...</td>\n",
       "      <td>1.298422</td>\n",
       "      <td>1.299873</td>\n",
       "      <td>1.311157</td>\n",
       "      <td>1.303259</td>\n",
       "      <td>1.349833</td>\n",
       "      <td>45.84</td>\n",
       "      <td>36.93</td>\n",
       "      <td>low</td>\n",
       "      <td>ok</td>\n",
       "      <td>high</td>\n",
       "    </tr>\n",
       "    <tr>\n",
       "      <th>4</th>\n",
       "      <td>ID_82N6QE6I</td>\n",
       "      <td>0.510485</td>\n",
       "      <td>0.519359</td>\n",
       "      <td>0.524225</td>\n",
       "      <td>0.528419</td>\n",
       "      <td>0.535273</td>\n",
       "      <td>0.545342</td>\n",
       "      <td>0.550314</td>\n",
       "      <td>0.557129</td>\n",
       "      <td>0.567030</td>\n",
       "      <td>...</td>\n",
       "      <td>1.272367</td>\n",
       "      <td>1.290032</td>\n",
       "      <td>1.339771</td>\n",
       "      <td>1.322738</td>\n",
       "      <td>1.348964</td>\n",
       "      <td>38.92</td>\n",
       "      <td>23.88</td>\n",
       "      <td>ok</td>\n",
       "      <td>ok</td>\n",
       "      <td>high</td>\n",
       "    </tr>\n",
       "  </tbody>\n",
       "</table>\n",
       "<p>5 rows × 176 columns</p>\n",
       "</div>"
      ],
      "text/plain": [
       "    Reading_ID  absorbance0  absorbance1  absorbance2  absorbance3  \\\n",
       "0  ID_3SSHI56C     0.479669     0.477423     0.487956     0.491831   \n",
       "1  ID_599OOLZA     0.471537     0.474113     0.479981     0.485528   \n",
       "2  ID_MVJGPQ75     0.444998     0.458034     0.447386     0.456921   \n",
       "3  ID_CK6RF8YV     0.513434     0.513303     0.522609     0.521068   \n",
       "4  ID_82N6QE6I     0.510485     0.519359     0.524225     0.528419   \n",
       "\n",
       "   absorbance4  absorbance5  absorbance6  absorbance7  absorbance8  ...  \\\n",
       "0     0.500516     0.502590     0.511561     0.514639     0.524245  ...   \n",
       "1     0.491049     0.497942     0.504760     0.510543     0.522328  ...   \n",
       "2     0.463225     0.475983     0.476817     0.481565     0.490010  ...   \n",
       "3     0.523146     0.530132     0.539517     0.546364     0.552414  ...   \n",
       "4     0.535273     0.545342     0.550314     0.557129     0.567030  ...   \n",
       "\n",
       "   absorbance165  absorbance166  absorbance167  absorbance168  absorbance169  \\\n",
       "0       1.218660       1.213038       1.198317       1.195735       1.180846   \n",
       "1       1.304501       1.323005       1.305992       1.263887       1.262095   \n",
       "2       1.325059       1.271115       1.337119       1.289877       1.345229   \n",
       "3       1.298422       1.299873       1.311157       1.303259       1.349833   \n",
       "4       1.272367       1.290032       1.339771       1.322738       1.348964   \n",
       "\n",
       "   temperature  humidity  hdl_cholesterol_human  hemoglobin(hgb)_human  \\\n",
       "0        42.51     34.01                     ok                     ok   \n",
       "1        44.52     32.09                     ok                   high   \n",
       "2        45.77     24.80                     ok                     ok   \n",
       "3        45.84     36.93                    low                     ok   \n",
       "4        38.92     23.88                     ok                     ok   \n",
       "\n",
       "   cholesterol_ldl_human  \n",
       "0                     ok  \n",
       "1                   high  \n",
       "2                   high  \n",
       "3                   high  \n",
       "4                   high  \n",
       "\n",
       "[5 rows x 176 columns]"
      ]
     },
     "execution_count": 8,
     "metadata": {},
     "output_type": "execute_result"
    }
   ],
   "source": [
    "train.head()"
   ]
  },
  {
   "cell_type": "markdown",
   "id": "bd6bac15",
   "metadata": {},
   "source": [
    "You can drop the id column and then convert the data to numpy array"
   ]
  },
  {
   "cell_type": "code",
   "execution_count": 9,
   "id": "e8d6a580",
   "metadata": {},
   "outputs": [
    {
     "name": "stdout",
     "output_type": "stream",
     "text": [
      "(13140, 175)\n"
     ]
    }
   ],
   "source": [
    "train.drop([\"Reading_ID\"], axis=1, inplace=True)\n",
    "data = train.to_numpy()\n",
    "print(data.shape) # 219 IDs"
   ]
  },
  {
   "cell_type": "markdown",
   "id": "6c887da1",
   "metadata": {},
   "source": [
    "The first 170 columns are the abosrbance values, 170 to 172 are the temperature and humidity of the scanner, and the last 3 columns are the values you want to your model to predict "
   ]
  },
  {
   "cell_type": "code",
   "execution_count": 10,
   "id": "3c75147c",
   "metadata": {},
   "outputs": [],
   "source": [
    "features = np.array(data[:,:172], dtype=float)\n",
    "labels = data[:, 172:]"
   ]
  },
  {
   "cell_type": "markdown",
   "id": "1f796a77",
   "metadata": {},
   "source": [
    "So using these features and labels, you can go ahead to train you machine learning"
   ]
  },
  {
   "cell_type": "markdown",
   "id": "f01d19ef",
   "metadata": {},
   "source": [
    "## Saving the predictions"
   ]
  },
  {
   "cell_type": "code",
   "execution_count": 11,
   "id": "163be88a",
   "metadata": {},
   "outputs": [
    {
     "data": {
      "text/html": [
       "<div>\n",
       "<style scoped>\n",
       "    .dataframe tbody tr th:only-of-type {\n",
       "        vertical-align: middle;\n",
       "    }\n",
       "\n",
       "    .dataframe tbody tr th {\n",
       "        vertical-align: top;\n",
       "    }\n",
       "\n",
       "    .dataframe thead th {\n",
       "        text-align: right;\n",
       "    }\n",
       "</style>\n",
       "<table border=\"1\" class=\"dataframe\">\n",
       "  <thead>\n",
       "    <tr style=\"text-align: right;\">\n",
       "      <th></th>\n",
       "      <th>Reading_ID</th>\n",
       "      <th>absorbance0</th>\n",
       "      <th>absorbance1</th>\n",
       "      <th>absorbance2</th>\n",
       "      <th>absorbance3</th>\n",
       "      <th>absorbance4</th>\n",
       "      <th>absorbance5</th>\n",
       "      <th>absorbance6</th>\n",
       "      <th>absorbance7</th>\n",
       "      <th>absorbance8</th>\n",
       "      <th>...</th>\n",
       "      <th>absorbance162</th>\n",
       "      <th>absorbance163</th>\n",
       "      <th>absorbance164</th>\n",
       "      <th>absorbance165</th>\n",
       "      <th>absorbance166</th>\n",
       "      <th>absorbance167</th>\n",
       "      <th>absorbance168</th>\n",
       "      <th>absorbance169</th>\n",
       "      <th>temperature</th>\n",
       "      <th>humidity</th>\n",
       "    </tr>\n",
       "  </thead>\n",
       "  <tbody>\n",
       "    <tr>\n",
       "      <th>0</th>\n",
       "      <td>ID_37BEI22R</td>\n",
       "      <td>0.449736</td>\n",
       "      <td>0.449798</td>\n",
       "      <td>0.447488</td>\n",
       "      <td>0.464694</td>\n",
       "      <td>0.466377</td>\n",
       "      <td>0.485350</td>\n",
       "      <td>0.488915</td>\n",
       "      <td>0.495073</td>\n",
       "      <td>0.504129</td>\n",
       "      <td>...</td>\n",
       "      <td>1.223793</td>\n",
       "      <td>1.195193</td>\n",
       "      <td>1.205222</td>\n",
       "      <td>1.164610</td>\n",
       "      <td>1.151594</td>\n",
       "      <td>1.166565</td>\n",
       "      <td>1.157079</td>\n",
       "      <td>1.200857</td>\n",
       "      <td>40.88</td>\n",
       "      <td>25.70</td>\n",
       "    </tr>\n",
       "    <tr>\n",
       "      <th>1</th>\n",
       "      <td>ID_4W85V5DV</td>\n",
       "      <td>0.495429</td>\n",
       "      <td>0.505488</td>\n",
       "      <td>0.510239</td>\n",
       "      <td>0.518880</td>\n",
       "      <td>0.533147</td>\n",
       "      <td>0.543142</td>\n",
       "      <td>0.551670</td>\n",
       "      <td>0.558261</td>\n",
       "      <td>0.564027</td>\n",
       "      <td>...</td>\n",
       "      <td>1.310219</td>\n",
       "      <td>1.294600</td>\n",
       "      <td>1.269705</td>\n",
       "      <td>1.244257</td>\n",
       "      <td>1.238365</td>\n",
       "      <td>1.218063</td>\n",
       "      <td>1.252711</td>\n",
       "      <td>1.255433</td>\n",
       "      <td>42.35</td>\n",
       "      <td>30.16</td>\n",
       "    </tr>\n",
       "    <tr>\n",
       "      <th>2</th>\n",
       "      <td>ID_L4YR3NDY</td>\n",
       "      <td>0.437904</td>\n",
       "      <td>0.439064</td>\n",
       "      <td>0.442527</td>\n",
       "      <td>0.450437</td>\n",
       "      <td>0.455363</td>\n",
       "      <td>0.465817</td>\n",
       "      <td>0.471249</td>\n",
       "      <td>0.479145</td>\n",
       "      <td>0.482595</td>\n",
       "      <td>...</td>\n",
       "      <td>1.162556</td>\n",
       "      <td>1.161711</td>\n",
       "      <td>1.160406</td>\n",
       "      <td>1.159570</td>\n",
       "      <td>1.159641</td>\n",
       "      <td>1.157491</td>\n",
       "      <td>1.177478</td>\n",
       "      <td>1.169607</td>\n",
       "      <td>42.83</td>\n",
       "      <td>25.51</td>\n",
       "    </tr>\n",
       "    <tr>\n",
       "      <th>3</th>\n",
       "      <td>ID_U88E3SQ6</td>\n",
       "      <td>0.495038</td>\n",
       "      <td>0.506246</td>\n",
       "      <td>0.508730</td>\n",
       "      <td>0.518995</td>\n",
       "      <td>0.529961</td>\n",
       "      <td>0.537583</td>\n",
       "      <td>0.539696</td>\n",
       "      <td>0.540400</td>\n",
       "      <td>0.547279</td>\n",
       "      <td>...</td>\n",
       "      <td>1.168321</td>\n",
       "      <td>1.137272</td>\n",
       "      <td>1.109380</td>\n",
       "      <td>1.047561</td>\n",
       "      <td>1.050649</td>\n",
       "      <td>1.020026</td>\n",
       "      <td>1.033139</td>\n",
       "      <td>1.023882</td>\n",
       "      <td>40.95</td>\n",
       "      <td>41.32</td>\n",
       "    </tr>\n",
       "    <tr>\n",
       "      <th>4</th>\n",
       "      <td>ID_NW7Z3XU7</td>\n",
       "      <td>0.531306</td>\n",
       "      <td>0.525309</td>\n",
       "      <td>0.535306</td>\n",
       "      <td>0.541387</td>\n",
       "      <td>0.551364</td>\n",
       "      <td>0.559821</td>\n",
       "      <td>0.564851</td>\n",
       "      <td>0.570824</td>\n",
       "      <td>0.577426</td>\n",
       "      <td>...</td>\n",
       "      <td>1.288590</td>\n",
       "      <td>1.287614</td>\n",
       "      <td>1.300164</td>\n",
       "      <td>1.285028</td>\n",
       "      <td>1.272818</td>\n",
       "      <td>1.277348</td>\n",
       "      <td>1.248892</td>\n",
       "      <td>1.290145</td>\n",
       "      <td>46.99</td>\n",
       "      <td>24.21</td>\n",
       "    </tr>\n",
       "  </tbody>\n",
       "</table>\n",
       "<p>5 rows × 173 columns</p>\n",
       "</div>"
      ],
      "text/plain": [
       "    Reading_ID  absorbance0  absorbance1  absorbance2  absorbance3  \\\n",
       "0  ID_37BEI22R     0.449736     0.449798     0.447488     0.464694   \n",
       "1  ID_4W85V5DV     0.495429     0.505488     0.510239     0.518880   \n",
       "2  ID_L4YR3NDY     0.437904     0.439064     0.442527     0.450437   \n",
       "3  ID_U88E3SQ6     0.495038     0.506246     0.508730     0.518995   \n",
       "4  ID_NW7Z3XU7     0.531306     0.525309     0.535306     0.541387   \n",
       "\n",
       "   absorbance4  absorbance5  absorbance6  absorbance7  absorbance8  ...  \\\n",
       "0     0.466377     0.485350     0.488915     0.495073     0.504129  ...   \n",
       "1     0.533147     0.543142     0.551670     0.558261     0.564027  ...   \n",
       "2     0.455363     0.465817     0.471249     0.479145     0.482595  ...   \n",
       "3     0.529961     0.537583     0.539696     0.540400     0.547279  ...   \n",
       "4     0.551364     0.559821     0.564851     0.570824     0.577426  ...   \n",
       "\n",
       "   absorbance162  absorbance163  absorbance164  absorbance165  absorbance166  \\\n",
       "0       1.223793       1.195193       1.205222       1.164610       1.151594   \n",
       "1       1.310219       1.294600       1.269705       1.244257       1.238365   \n",
       "2       1.162556       1.161711       1.160406       1.159570       1.159641   \n",
       "3       1.168321       1.137272       1.109380       1.047561       1.050649   \n",
       "4       1.288590       1.287614       1.300164       1.285028       1.272818   \n",
       "\n",
       "   absorbance167  absorbance168  absorbance169  temperature  humidity  \n",
       "0       1.166565       1.157079       1.200857        40.88     25.70  \n",
       "1       1.218063       1.252711       1.255433        42.35     30.16  \n",
       "2       1.157491       1.177478       1.169607        42.83     25.51  \n",
       "3       1.020026       1.033139       1.023882        40.95     41.32  \n",
       "4       1.277348       1.248892       1.290145        46.99     24.21  \n",
       "\n",
       "[5 rows x 173 columns]"
      ]
     },
     "execution_count": 11,
     "metadata": {},
     "output_type": "execute_result"
    }
   ],
   "source": [
    "test = pd.read_csv(testcsv)\n",
    "test.head()"
   ]
  },
  {
   "cell_type": "code",
   "execution_count": 12,
   "id": "d8ffc29e",
   "metadata": {},
   "outputs": [],
   "source": [
    "# save it ids before dropping them\n",
    "idx = test.Reading_ID.values\n",
    "test.drop([\"Reading_ID\"], axis=1, inplace=True)\n",
    "testdata = test.to_numpy()"
   ]
  },
  {
   "cell_type": "code",
   "execution_count": 13,
   "id": "edbb1305",
   "metadata": {},
   "outputs": [
    {
     "name": "stdout",
     "output_type": "stream",
     "text": [
      "(3660, 172)\n"
     ]
    }
   ],
   "source": [
    "print(testdata.shape) # 61 Individuals"
   ]
  },
  {
   "cell_type": "markdown",
   "id": "caf2273d",
   "metadata": {},
   "source": [
    "### Basic model example"
   ]
  },
  {
   "cell_type": "markdown",
   "id": "00fe1d19",
   "metadata": {},
   "source": [
    "The goal of the project is to classify the level of cholesterol low, cholesterol high and hemoglobin. Your prediction should be something of the form ok, low and high. So you will to build and train a multioutput classfier. Below is basic example using sklearn.\n",
    "\n",
    "Key:\n",
    "low  = 0,\n",
    "ok   = 1,\n",
    "high = 2"
   ]
  },
  {
   "cell_type": "code",
   "execution_count": 14,
   "id": "64d0d001",
   "metadata": {},
   "outputs": [],
   "source": [
    "labels_n = np.zeros(labels.shape)\n",
    "labels_n[np.where(labels=='low')] = 0\n",
    "labels_n[np.where(labels=='ok')] = 1\n",
    "labels_n[np.where(labels=='high')] = 2"
   ]
  },
  {
   "cell_type": "code",
   "execution_count": 15,
   "id": "b202caf3",
   "metadata": {},
   "outputs": [],
   "source": [
    "from sklearn.datasets import make_classification\n",
    "from sklearn.multioutput import MultiOutputClassifier\n",
    "from sklearn.ensemble import RandomForestClassifier\n",
    "from sklearn.utils import shuffle"
   ]
  },
  {
   "cell_type": "code",
   "execution_count": null,
   "id": "51fdca82",
   "metadata": {},
   "outputs": [],
   "source": [
    "n_samples, n_features = features.shape\n",
    "n_outputs = labels_n.shape[1]\n",
    "n_classes = 3\n",
    "forest = RandomForestClassifier(random_state=1)\n",
    "multi_target_forest = MultiOutputClassifier(forest, n_jobs=-1)\n",
    "model = multi_target_forest.fit(features, labels_n)"
   ]
  },
  {
   "cell_type": "code",
   "execution_count": null,
   "id": "4269625a",
   "metadata": {},
   "outputs": [],
   "source": [
    "multi_target_forest.score(features, labels_n)"
   ]
  },
  {
   "cell_type": "code",
   "execution_count": null,
   "id": "2e111688",
   "metadata": {},
   "outputs": [],
   "source": [
    "def mymodel(features):\n",
    "    output = model.predict(features)\n",
    "    return output"
   ]
  },
  {
   "cell_type": "code",
   "execution_count": null,
   "id": "79ba8578",
   "metadata": {},
   "outputs": [],
   "source": [
    "predictions = mymodel(testdata)\n",
    "# Save the results to csv\n",
    "ss = pd.DataFrame()\n",
    "ss[\"Reading_ID\"] = idx # don't messed up the ids. save them before.\n",
    "ss[\"hdl_cholesterol_human\"] = predictions[:,0]\n",
    "ss[\"hemoglobin(hgb)_human\"] = predictions[:,1]\n",
    "ss[\"cholesterol_ldl_human\"] = predictions[:,2]\n"
   ]
  },
  {
   "cell_type": "code",
   "execution_count": null,
   "id": "ff7def9e",
   "metadata": {},
   "outputs": [],
   "source": [
    "ss"
   ]
  },
  {
   "cell_type": "markdown",
   "id": "72ae3a21",
   "metadata": {},
   "source": [
    "##### - We need to transform our predictions from 0, 1, 2 to low, ok, high respectively "
   ]
  },
  {
   "cell_type": "code",
   "execution_count": null,
   "id": "e193d238",
   "metadata": {},
   "outputs": [],
   "source": [
    "def transform(value):\n",
    "    if value == 0.0:\n",
    "        return 'low'\n",
    "    elif value == 1.0:\n",
    "        return 'ok'\n",
    "    else:\n",
    "        return 'high'\n",
    "        "
   ]
  },
  {
   "cell_type": "code",
   "execution_count": null,
   "id": "e1b94cd8",
   "metadata": {},
   "outputs": [],
   "source": [
    "ss[\"hdl_cholesterol_human\"] = ss[\"hdl_cholesterol_human\"].apply(lambda x: transform(x))\n",
    "ss[\"hemoglobin(hgb)_human\"] = ss[\"hemoglobin(hgb)_human\"].apply(lambda x: transform(x))\n",
    "ss[\"cholesterol_ldl_human\"] = ss[\"cholesterol_ldl_human\"].apply(lambda x: transform(x))"
   ]
  },
  {
   "cell_type": "code",
   "execution_count": null,
   "id": "659bee93",
   "metadata": {},
   "outputs": [],
   "source": [
    "ss.head()"
   ]
  },
  {
   "cell_type": "markdown",
   "id": "fe0985d3",
   "metadata": {},
   "source": [
    "#### -  Convert our submission as per the sample submission "
   ]
  },
  {
   "cell_type": "code",
   "execution_count": null,
   "id": "e93c3e3b",
   "metadata": {},
   "outputs": [],
   "source": [
    "def transform_c_hdl(row):\n",
    "    return str(row[\"Reading_ID\"]) + \"_hdl_cholesterol_human\" + \"-\" +  row[\"hdl_cholesterol_human\"]"
   ]
  },
  {
   "cell_type": "code",
   "execution_count": null,
   "id": "887386f2",
   "metadata": {},
   "outputs": [],
   "source": [
    "hdl_rows = pd.DataFrame(ss.apply(transform_c_hdl, axis=1))"
   ]
  },
  {
   "cell_type": "code",
   "execution_count": null,
   "id": "a4597be2",
   "metadata": {},
   "outputs": [],
   "source": [
    "def transform_hemo(row):\n",
    "    return str(row[\"Reading_ID\"]) + \"_hemoglobin(hgb)_human\" +  \"-\" + row[\"hemoglobin(hgb)_human\"]"
   ]
  },
  {
   "cell_type": "code",
   "execution_count": null,
   "id": "cf149965",
   "metadata": {},
   "outputs": [],
   "source": [
    "hemo_rows = pd.DataFrame(ss.apply(transform_hemo, axis=1))"
   ]
  },
  {
   "cell_type": "code",
   "execution_count": null,
   "id": "fac3ca5e",
   "metadata": {},
   "outputs": [],
   "source": [
    "def transform_c_ldl(row):\n",
    "    return str(row[\"Reading_ID\"]) + \"_cholesterol_ldl_human\" +  \"-\" + row[\"cholesterol_ldl_human\"]"
   ]
  },
  {
   "cell_type": "code",
   "execution_count": null,
   "id": "91642da0",
   "metadata": {},
   "outputs": [],
   "source": [
    "ldl_rows = pd.DataFrame(ss.apply(transform_c_ldl, axis=1))"
   ]
  },
  {
   "cell_type": "code",
   "execution_count": null,
   "id": "042d9a38",
   "metadata": {},
   "outputs": [],
   "source": [
    "ss = pd.concat([hdl_rows, hemo_rows, ldl_rows]).reset_index(drop=True)"
   ]
  },
  {
   "cell_type": "code",
   "execution_count": null,
   "id": "7de78f85",
   "metadata": {},
   "outputs": [],
   "source": [
    "ss[\"target\"] = ss[0].apply(lambda x: x.split(\"-\")[1])\n",
    "ss[0] = ss[0].apply(lambda x: x.split(\"-\")[0])"
   ]
  },
  {
   "cell_type": "code",
   "execution_count": null,
   "id": "3a61870e",
   "metadata": {},
   "outputs": [],
   "source": [
    "ss = ss.rename(columns={0:\"Reading_ID\"})"
   ]
  },
  {
   "cell_type": "code",
   "execution_count": null,
   "id": "94c8335f",
   "metadata": {},
   "outputs": [],
   "source": [
    "ss.head()"
   ]
  },
  {
   "cell_type": "code",
   "execution_count": null,
   "id": "32d7f325",
   "metadata": {},
   "outputs": [],
   "source": [
    "ss.to_csv(maindir+\"/submission.csv\", index=False)"
   ]
  },
  {
   "cell_type": "markdown",
   "id": "196bd92e",
   "metadata": {},
   "source": [
    "### To Do\n",
    "- Try other models,\n",
    "- Cross validation"
   ]
  },
  {
   "cell_type": "code",
   "execution_count": null,
   "id": "dc4868bf",
   "metadata": {},
   "outputs": [],
   "source": []
  }
 ],
 "metadata": {
  "kernelspec": {
   "display_name": "Python 3 (ipykernel)",
   "language": "python",
   "name": "python3"
  },
  "language_info": {
   "codemirror_mode": {
    "name": "ipython",
    "version": 3
   },
   "file_extension": ".py",
   "mimetype": "text/x-python",
   "name": "python",
   "nbconvert_exporter": "python",
   "pygments_lexer": "ipython3",
   "version": "3.8.5"
  }
 },
 "nbformat": 4,
 "nbformat_minor": 5
}
